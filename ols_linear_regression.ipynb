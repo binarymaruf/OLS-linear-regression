{
 "cells": [
  {
   "cell_type": "code",
   "execution_count": 4,
   "id": "7cd81d88-e547-471f-a556-46b026540f02",
   "metadata": {},
   "outputs": [
    {
     "data": {
      "text/plain": [
       "(2.620967741935484, 35.16129032258065, 50.88709677419355)"
      ]
     },
     "execution_count": 4,
     "metadata": {},
     "output_type": "execute_result"
    }
   ],
   "source": [
    "import numpy as np\n",
    "\n",
    "weight=np.array([2,4,5,3,6,5,7])\n",
    "price=np.array([35,60,20,50,50,55,60])\n",
    "\n",
    "meanWeight=np.mean(weight)\n",
    "meanPrice=np.mean(price)\n",
    "\n",
    "slope=np.sum((weight-meanWeight)*(price-meanPrice))/np.sum((weight-meanWeight)**2)\n",
    "intercept=meanPrice-slope*meanWeight\n",
    "predPrice = slope*6+intercept\n",
    "\n",
    "slope, intercept, predPrice"
   ]
  },
  {
   "cell_type": "code",
   "execution_count": null,
   "id": "680582f2-b550-42c6-84b7-028f80d839c8",
   "metadata": {},
   "outputs": [],
   "source": []
  }
 ],
 "metadata": {
  "kernelspec": {
   "display_name": "Python 3 (ipykernel)",
   "language": "python",
   "name": "python3"
  },
  "language_info": {
   "codemirror_mode": {
    "name": "ipython",
    "version": 3
   },
   "file_extension": ".py",
   "mimetype": "text/x-python",
   "name": "python",
   "nbconvert_exporter": "python",
   "pygments_lexer": "ipython3",
   "version": "3.11.3"
  }
 },
 "nbformat": 4,
 "nbformat_minor": 5
}
